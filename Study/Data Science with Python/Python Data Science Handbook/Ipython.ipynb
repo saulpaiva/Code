{
 "cells": [
  {
   "cell_type": "code",
   "execution_count": 2,
   "id": "ac8d2535-a36a-4fcf-a235-97a3ff7d0e3a",
   "metadata": {},
   "outputs": [
    {
     "name": "stdout",
     "output_type": "stream",
     "text": [
      "Help on built-in function len in module builtins:\n",
      "\n",
      "len(obj, /)\n",
      "    Return the number of items in a container.\n",
      "\n"
     ]
    }
   ],
   "source": [
    "help(len)"
   ]
  },
  {
   "cell_type": "code",
   "execution_count": 3,
   "id": "92b52708-3a87-4066-bbe3-8c1eb3fb1e69",
   "metadata": {},
   "outputs": [
    {
     "data": {
      "text/plain": [
       "\u001b[1;31mSignature:\u001b[0m \u001b[0mlen\u001b[0m\u001b[1;33m(\u001b[0m\u001b[0mobj\u001b[0m\u001b[1;33m,\u001b[0m \u001b[1;33m/\u001b[0m\u001b[1;33m)\u001b[0m\u001b[1;33m\u001b[0m\u001b[1;33m\u001b[0m\u001b[0m\n",
       "\u001b[1;31mDocstring:\u001b[0m Return the number of items in a container.\n",
       "\u001b[1;31mType:\u001b[0m      builtin_function_or_method\n"
      ]
     },
     "metadata": {},
     "output_type": "display_data"
    }
   ],
   "source": [
    "len?"
   ]
  },
  {
   "cell_type": "code",
   "execution_count": 4,
   "id": "1c29e71d-ed96-4679-8c15-bb78aecb7622",
   "metadata": {},
   "outputs": [
    {
     "data": {
      "text/plain": [
       "\u001b[1;31mSignature:\u001b[0m \u001b[0mL\u001b[0m\u001b[1;33m.\u001b[0m\u001b[0minsert\u001b[0m\u001b[1;33m(\u001b[0m\u001b[0mindex\u001b[0m\u001b[1;33m,\u001b[0m \u001b[0mobject\u001b[0m\u001b[1;33m,\u001b[0m \u001b[1;33m/\u001b[0m\u001b[1;33m)\u001b[0m\u001b[1;33m\u001b[0m\u001b[1;33m\u001b[0m\u001b[0m\n",
       "\u001b[1;31mDocstring:\u001b[0m Insert object before index.\n",
       "\u001b[1;31mType:\u001b[0m      builtin_function_or_method\n"
      ]
     },
     "metadata": {},
     "output_type": "display_data"
    }
   ],
   "source": [
    "L = [1,2,3]\n",
    "L.insert?"
   ]
  },
  {
   "cell_type": "code",
   "execution_count": 5,
   "id": "b6ede619-f44d-4aef-a177-133ee6e3a397",
   "metadata": {},
   "outputs": [
    {
     "data": {
      "text/plain": [
       "\u001b[1;31mType:\u001b[0m        list\n",
       "\u001b[1;31mString form:\u001b[0m [1, 2, 3]\n",
       "\u001b[1;31mLength:\u001b[0m      3\n",
       "\u001b[1;31mDocstring:\u001b[0m  \n",
       "Built-in mutable sequence.\n",
       "\n",
       "If no argument is given, the constructor creates a new empty list.\n",
       "The argument must be an iterable if specified.\n"
      ]
     },
     "metadata": {},
     "output_type": "display_data"
    }
   ],
   "source": [
    "L?"
   ]
  },
  {
   "cell_type": "code",
   "execution_count": 9,
   "id": "93dd87a8-5be2-49ee-b8ae-c9aa5037fd2b",
   "metadata": {},
   "outputs": [],
   "source": [
    "def square(a):\n",
    "    \"\"\"Return the square of a number\"\"\"\n",
    "    return a ** 2"
   ]
  },
  {
   "cell_type": "code",
   "execution_count": 10,
   "id": "68e95f02-f9bd-412f-8f92-3c3f06ca031f",
   "metadata": {},
   "outputs": [
    {
     "data": {
      "text/plain": [
       "64"
      ]
     },
     "execution_count": 10,
     "metadata": {},
     "output_type": "execute_result"
    }
   ],
   "source": [
    "square(8)"
   ]
  },
  {
   "cell_type": "code",
   "execution_count": 11,
   "id": "dddc4b1c-3ae1-40d3-98e5-0c550a3aabf1",
   "metadata": {},
   "outputs": [
    {
     "data": {
      "text/plain": [
       "\u001b[1;31mSignature:\u001b[0m \u001b[0msquare\u001b[0m\u001b[1;33m(\u001b[0m\u001b[0ma\u001b[0m\u001b[1;33m)\u001b[0m\u001b[1;33m\u001b[0m\u001b[1;33m\u001b[0m\u001b[0m\n",
       "\u001b[1;31mDocstring:\u001b[0m Return the square of a number\n",
       "\u001b[1;31mFile:\u001b[0m      c:\\users\\saulp\\documents\\github\\code\\study\\data science with python\\python data science handbook\\<ipython-input-9-a759a30c3220>\n",
       "\u001b[1;31mType:\u001b[0m      function\n"
      ]
     },
     "metadata": {},
     "output_type": "display_data"
    }
   ],
   "source": [
    "square?"
   ]
  },
  {
   "cell_type": "code",
   "execution_count": 12,
   "id": "96643607-28d2-4913-87f2-475d65e1a668",
   "metadata": {},
   "outputs": [
    {
     "data": {
      "text/plain": [
       "\u001b[1;31mSignature:\u001b[0m \u001b[0msquare\u001b[0m\u001b[1;33m(\u001b[0m\u001b[0ma\u001b[0m\u001b[1;33m)\u001b[0m\u001b[1;33m\u001b[0m\u001b[1;33m\u001b[0m\u001b[0m\n",
       "\u001b[1;31mSource:\u001b[0m   \n",
       "\u001b[1;32mdef\u001b[0m \u001b[0msquare\u001b[0m\u001b[1;33m(\u001b[0m\u001b[0ma\u001b[0m\u001b[1;33m)\u001b[0m\u001b[1;33m:\u001b[0m\u001b[1;33m\n",
       "\u001b[0m    \u001b[1;34m\"\"\"Return the square of a number\"\"\"\u001b[0m\u001b[1;33m\n",
       "\u001b[0m    \u001b[1;32mreturn\u001b[0m \u001b[0ma\u001b[0m \u001b[1;33m**\u001b[0m \u001b[1;36m2\u001b[0m\u001b[1;33m\u001b[0m\u001b[1;33m\u001b[0m\u001b[0m\n",
       "\u001b[1;31mFile:\u001b[0m      c:\\users\\saulp\\documents\\github\\code\\study\\data science with python\\python data science handbook\\<ipython-input-9-a759a30c3220>\n",
       "\u001b[1;31mType:\u001b[0m      function\n"
      ]
     },
     "metadata": {},
     "output_type": "display_data"
    }
   ],
   "source": [
    "square??"
   ]
  },
  {
   "cell_type": "code",
   "execution_count": 13,
   "id": "4e1bea38-1988-4aeb-b188-e8b9831481a5",
   "metadata": {},
   "outputs": [
    {
     "data": {
      "text/plain": [
       "\u001b[1;31mSignature:\u001b[0m \u001b[0mlen\u001b[0m\u001b[1;33m(\u001b[0m\u001b[0mobj\u001b[0m\u001b[1;33m,\u001b[0m \u001b[1;33m/\u001b[0m\u001b[1;33m)\u001b[0m\u001b[1;33m\u001b[0m\u001b[1;33m\u001b[0m\u001b[0m\n",
       "\u001b[1;31mDocstring:\u001b[0m Return the number of items in a container.\n",
       "\u001b[1;31mType:\u001b[0m      builtin_function_or_method\n"
      ]
     },
     "metadata": {},
     "output_type": "display_data"
    }
   ],
   "source": [
    "len??"
   ]
  },
  {
   "cell_type": "code",
   "execution_count": 21,
   "id": "0718f708-dfaf-46a3-90cd-d1424dc21e46",
   "metadata": {},
   "outputs": [
    {
     "data": {
      "text/plain": [
       "<function list.count(value, /)>"
      ]
     },
     "execution_count": 21,
     "metadata": {},
     "output_type": "execute_result"
    }
   ],
   "source": [
    "# press Tab after the period '.'\n",
    "L.count"
   ]
  },
  {
   "cell_type": "code",
   "execution_count": 22,
   "id": "4bb6fa2e-1a42-4e36-998e-6f0ada13ea4a",
   "metadata": {},
   "outputs": [
    {
     "data": {
      "text/plain": [
       "<function list.__dir__()>"
      ]
     },
     "execution_count": 22,
     "metadata": {},
     "output_type": "execute_result"
    }
   ],
   "source": [
    "# private and special (\"dunder\") methods '_'\n",
    "L.__dir__"
   ]
  },
  {
   "cell_type": "code",
   "execution_count": 24,
   "id": "2e10e00f-fde7-4bca-aa49-a8dfe526a6ec",
   "metadata": {},
   "outputs": [],
   "source": [
    "# from intertools import co<TAB>\n",
    "# import <TAB>"
   ]
  },
  {
   "cell_type": "code",
   "execution_count": 27,
   "id": "3b99453e-0317-4996-b70b-8532b9539255",
   "metadata": {},
   "outputs": [
    {
     "data": {
      "text/plain": [
       "BytesWarning\n",
       "DeprecationWarning\n",
       "FutureWarning\n",
       "ImportWarning\n",
       "PendingDeprecationWarning\n",
       "ResourceWarning\n",
       "RuntimeWarning\n",
       "SyntaxWarning\n",
       "UnicodeWarning\n",
       "UserWarning\n",
       "Warning"
      ]
     },
     "metadata": {},
     "output_type": "display_data"
    }
   ],
   "source": [
    "# match characters using '*' and '?'\n",
    "*Warning?"
   ]
  },
  {
   "cell_type": "code",
   "execution_count": 28,
   "id": "671e88d7-2e8c-402c-9bf4-91d8e5c33b7f",
   "metadata": {},
   "outputs": [
    {
     "data": {
      "text/plain": [
       "str.find\n",
       "str.rfind"
      ]
     },
     "metadata": {},
     "output_type": "display_data"
    }
   ],
   "source": [
    "str.*find*?"
   ]
  },
  {
   "cell_type": "code",
   "execution_count": 1,
   "id": "3aca6cfa-a4e7-482e-9165-14b59f9fc792",
   "metadata": {},
   "outputs": [],
   "source": [
    "def donothing(x):\n",
    "    return x"
   ]
  },
  {
   "cell_type": "code",
   "execution_count": 6,
   "id": "46bff30c-3e36-4e7a-8bd0-a93fc63950dc",
   "metadata": {
    "collapsed": true,
    "jupyter": {
     "outputs_hidden": true
    },
    "tags": []
   },
   "outputs": [
    {
     "name": "stdout",
     "output_type": "stream",
     "text": [
      "1 square is 1\n",
      "2 square is 4\n",
      "3 square is 9\n",
      "4 square is 16\n",
      "5 square is 25\n",
      "6 square is 36\n",
      "7 square is 49\n",
      "8 square is 64\n",
      "9 square is 81\n",
      "10 square is 100\n",
      "11 square is 121\n",
      "12 square is 144\n",
      "13 square is 169\n",
      "14 square is 196\n",
      "15 square is 225\n",
      "16 square is 256\n",
      "17 square is 289\n",
      "18 square is 324\n",
      "19 square is 361\n",
      "20 square is 400\n",
      "21 square is 441\n",
      "22 square is 484\n",
      "23 square is 529\n",
      "24 square is 576\n",
      "25 square is 625\n",
      "26 square is 676\n",
      "27 square is 729\n",
      "28 square is 784\n",
      "29 square is 841\n",
      "30 square is 900\n",
      "31 square is 961\n",
      "32 square is 1024\n",
      "33 square is 1089\n",
      "34 square is 1156\n",
      "35 square is 1225\n",
      "36 square is 1296\n",
      "37 square is 1369\n",
      "38 square is 1444\n",
      "39 square is 1521\n",
      "40 square is 1600\n",
      "41 square is 1681\n",
      "42 square is 1764\n",
      "43 square is 1849\n",
      "44 square is 1936\n",
      "45 square is 2025\n",
      "46 square is 2116\n",
      "47 square is 2209\n",
      "48 square is 2304\n",
      "49 square is 2401\n",
      "50 square is 2500\n",
      "51 square is 2601\n",
      "52 square is 2704\n",
      "53 square is 2809\n",
      "54 square is 2916\n",
      "55 square is 3025\n",
      "56 square is 3136\n",
      "57 square is 3249\n",
      "58 square is 3364\n",
      "59 square is 3481\n",
      "60 square is 3600\n",
      "61 square is 3721\n",
      "62 square is 3844\n",
      "63 square is 3969\n",
      "64 square is 4096\n",
      "65 square is 4225\n",
      "66 square is 4356\n",
      "67 square is 4489\n",
      "68 square is 4624\n",
      "69 square is 4761\n",
      "70 square is 4900\n",
      "71 square is 5041\n",
      "72 square is 5184\n",
      "73 square is 5329\n",
      "74 square is 5476\n",
      "75 square is 5625\n",
      "76 square is 5776\n",
      "77 square is 5929\n",
      "78 square is 6084\n",
      "79 square is 6241\n",
      "80 square is 6400\n",
      "81 square is 6561\n",
      "82 square is 6724\n",
      "83 square is 6889\n",
      "84 square is 7056\n",
      "85 square is 7225\n",
      "86 square is 7396\n",
      "87 square is 7569\n",
      "88 square is 7744\n",
      "89 square is 7921\n",
      "90 square is 8100\n",
      "91 square is 8281\n",
      "92 square is 8464\n",
      "93 square is 8649\n",
      "94 square is 8836\n",
      "95 square is 9025\n",
      "96 square is 9216\n",
      "97 square is 9409\n",
      "98 square is 9604\n",
      "99 square is 9801\n",
      "100 square is 10000\n"
     ]
    }
   ],
   "source": [
    "%run myscript.py"
   ]
  },
  {
   "cell_type": "code",
   "execution_count": null,
   "id": "ccec905c-4f83-4402-a653-6f66cdadc5fe",
   "metadata": {},
   "outputs": [],
   "source": []
  }
 ],
 "metadata": {
  "kernelspec": {
   "display_name": "Python 3",
   "language": "python",
   "name": "python3"
  },
  "language_info": {
   "codemirror_mode": {
    "name": "ipython",
    "version": 3
   },
   "file_extension": ".py",
   "mimetype": "text/x-python",
   "name": "python",
   "nbconvert_exporter": "python",
   "pygments_lexer": "ipython3",
   "version": "3.8.8"
  }
 },
 "nbformat": 4,
 "nbformat_minor": 5
}
