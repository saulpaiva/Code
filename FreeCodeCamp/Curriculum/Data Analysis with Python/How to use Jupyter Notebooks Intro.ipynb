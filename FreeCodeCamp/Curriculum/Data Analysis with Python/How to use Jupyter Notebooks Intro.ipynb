{
 "cells": [
  {
   "cell_type": "code",
   "execution_count": 1,
   "id": "e0f63f7b-57c5-41c4-a3f0-ff0d0cc693d9",
   "metadata": {},
   "outputs": [],
   "source": [
    "# How to use Jupyter Notebook"
   ]
  },
  {
   "cell_type": "code",
   "execution_count": 2,
   "id": "18cf84d4-c3c1-4db2-83a9-dd8ad334bf45",
   "metadata": {},
   "outputs": [
    {
     "data": {
      "text/plain": [
       "4"
      ]
     },
     "execution_count": 2,
     "metadata": {},
     "output_type": "execute_result"
    }
   ],
   "source": [
    "1 + 3"
   ]
  },
  {
   "cell_type": "code",
   "execution_count": 5,
   "id": "3640ea9c-2a0f-44b2-8f7c-3b3f987fbef8",
   "metadata": {},
   "outputs": [
    {
     "name": "stdout",
     "output_type": "stream",
     "text": [
      "Hello world Hello world Hello world \n"
     ]
    }
   ],
   "source": [
    "print('Hello world ' * 3)"
   ]
  },
  {
   "cell_type": "markdown",
   "id": "9ff80977-2334-427d-a26b-b6f285e2771a",
   "metadata": {},
   "source": [
    "### HTML Markdown\n",
    "\n",
    "1 + 3 normal text\n",
    "\n",
    "> **bold**\n",
    "\n",
    "_italics_\n",
    "\n",
    "[link](https://github.com/notebooks-ai/notebooks-help)\n",
    "\n",
    "![green-divider](https://user-images.githubusercontent.com/7065401/52071924-c003ad80-2562-11e9-8297-1c6595f8a7ff.png)\n"
   ]
  },
  {
   "cell_type": "code",
   "execution_count": null,
   "id": "211ec21a-6f79-4f9d-bf93-6801585b7e07",
   "metadata": {},
   "outputs": [],
   "source": []
  }
 ],
 "metadata": {
  "kernelspec": {
   "display_name": "Python 3",
   "language": "python",
   "name": "python3"
  },
  "language_info": {
   "codemirror_mode": {
    "name": "ipython",
    "version": 3
   },
   "file_extension": ".py",
   "mimetype": "text/x-python",
   "name": "python",
   "nbconvert_exporter": "python",
   "pygments_lexer": "ipython3",
   "version": "3.8.8"
  }
 },
 "nbformat": 4,
 "nbformat_minor": 5
}
