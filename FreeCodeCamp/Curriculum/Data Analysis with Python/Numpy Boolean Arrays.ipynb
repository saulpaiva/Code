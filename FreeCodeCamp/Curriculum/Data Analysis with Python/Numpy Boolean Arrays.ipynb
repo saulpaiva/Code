{
 "cells": [
  {
   "cell_type": "code",
   "execution_count": 1,
   "id": "21fd88cb-a813-4a31-97ba-8dee34247994",
   "metadata": {},
   "outputs": [],
   "source": [
    "import sys\n",
    "import numpy as np"
   ]
  },
  {
   "cell_type": "markdown",
   "id": "6cba40b1-1c1f-4daf-8b53-9838aa30a288",
   "metadata": {},
   "source": [
    "# Boolean arrays\n",
    "_(also called masks)_"
   ]
  },
  {
   "cell_type": "code",
   "execution_count": 2,
   "id": "f7ec3ff7-2806-4f96-a7e2-175b09badc47",
   "metadata": {},
   "outputs": [],
   "source": [
    "a = np.arange(4)"
   ]
  },
  {
   "cell_type": "code",
   "execution_count": 3,
   "id": "eac051f9-157d-46fb-a8c5-819a4d6ccc17",
   "metadata": {},
   "outputs": [
    {
     "data": {
      "text/plain": [
       "array([0, 1, 2, 3])"
      ]
     },
     "execution_count": 3,
     "metadata": {},
     "output_type": "execute_result"
    }
   ],
   "source": [
    "a"
   ]
  },
  {
   "cell_type": "code",
   "execution_count": 4,
   "id": "1b391df1-b958-4c60-ac96-2b09c281441d",
   "metadata": {},
   "outputs": [
    {
     "data": {
      "text/plain": [
       "array([0, 3])"
      ]
     },
     "execution_count": 4,
     "metadata": {},
     "output_type": "execute_result"
    }
   ],
   "source": [
    "a[[0, -1]]"
   ]
  },
  {
   "cell_type": "code",
   "execution_count": 5,
   "id": "e8f54595-58be-4109-9b23-da4f33b39313",
   "metadata": {},
   "outputs": [
    {
     "data": {
      "text/plain": [
       "array([0, 3])"
      ]
     },
     "execution_count": 5,
     "metadata": {},
     "output_type": "execute_result"
    }
   ],
   "source": [
    "a[[True, False, False, True]]"
   ]
  },
  {
   "cell_type": "code",
   "execution_count": 6,
   "id": "4bdc5cda-135a-4c99-8b08-fd32b15db86e",
   "metadata": {},
   "outputs": [
    {
     "data": {
      "text/plain": [
       "array([False, False,  True,  True])"
      ]
     },
     "execution_count": 6,
     "metadata": {},
     "output_type": "execute_result"
    }
   ],
   "source": [
    "a >= 2"
   ]
  },
  {
   "cell_type": "code",
   "execution_count": 7,
   "id": "656b573b-ac71-4ebd-9dd4-a467734f892f",
   "metadata": {},
   "outputs": [
    {
     "data": {
      "text/plain": [
       "array([False, False, False, False])"
      ]
     },
     "execution_count": 7,
     "metadata": {},
     "output_type": "execute_result"
    }
   ],
   "source": [
    "a == int"
   ]
  },
  {
   "cell_type": "code",
   "execution_count": 8,
   "id": "da083838-9997-430f-8279-138fe9bb7a69",
   "metadata": {},
   "outputs": [
    {
     "data": {
      "text/plain": [
       "array([2, 3])"
      ]
     },
     "execution_count": 8,
     "metadata": {},
     "output_type": "execute_result"
    }
   ],
   "source": [
    "a[a >= 2]"
   ]
  },
  {
   "cell_type": "code",
   "execution_count": 9,
   "id": "3cf90fd1-c615-460e-a33f-85f455be1069",
   "metadata": {},
   "outputs": [
    {
     "data": {
      "text/plain": [
       "array([], dtype=int32)"
      ]
     },
     "execution_count": 9,
     "metadata": {},
     "output_type": "execute_result"
    }
   ],
   "source": [
    "a[a == int]"
   ]
  },
  {
   "cell_type": "code",
   "execution_count": 10,
   "id": "cd7a8b4e-f7f7-408b-b71e-feb13dddf459",
   "metadata": {},
   "outputs": [
    {
     "data": {
      "text/plain": [
       "1.5"
      ]
     },
     "execution_count": 10,
     "metadata": {},
     "output_type": "execute_result"
    }
   ],
   "source": [
    "a.mean()"
   ]
  },
  {
   "cell_type": "code",
   "execution_count": 11,
   "id": "f6e9db05-0563-4da5-bd20-a173ef0059b2",
   "metadata": {},
   "outputs": [
    {
     "data": {
      "text/plain": [
       "array([2, 3])"
      ]
     },
     "execution_count": 11,
     "metadata": {},
     "output_type": "execute_result"
    }
   ],
   "source": [
    "a[a > a.mean()]"
   ]
  },
  {
   "cell_type": "code",
   "execution_count": 26,
   "id": "9ab6928c-a1a8-4f1a-853f-b2358c30843d",
   "metadata": {},
   "outputs": [
    {
     "data": {
      "text/plain": [
       "array([0, 1])"
      ]
     },
     "execution_count": 26,
     "metadata": {},
     "output_type": "execute_result"
    }
   ],
   "source": [
    "a[ ~ ( a > a.mean() )]"
   ]
  },
  {
   "cell_type": "code",
   "execution_count": 12,
   "id": "5ec2e945-9ac7-4e1c-9a1d-8c09be4fe804",
   "metadata": {},
   "outputs": [
    {
     "data": {
      "text/plain": [
       "array([0, 1])"
      ]
     },
     "execution_count": 12,
     "metadata": {},
     "output_type": "execute_result"
    }
   ],
   "source": [
    "# OR BOOLEAN\n",
    "a[(a == 0) | (a == 1)]"
   ]
  },
  {
   "cell_type": "code",
   "execution_count": 13,
   "id": "5a7b9d3b-421c-4099-94c8-6187189863e9",
   "metadata": {},
   "outputs": [
    {
     "data": {
      "text/plain": [
       "array([0, 2])"
      ]
     },
     "execution_count": 13,
     "metadata": {},
     "output_type": "execute_result"
    }
   ],
   "source": [
    "# AND BOOLEAN\n",
    "a[(a <= 2) & (a % 2 == 0)]"
   ]
  },
  {
   "cell_type": "code",
   "execution_count": 14,
   "id": "070275e5-e0f7-42ff-bcd3-c607cc3b71cd",
   "metadata": {},
   "outputs": [
    {
     "data": {
      "text/plain": [
       "array([], dtype=int32)"
      ]
     },
     "execution_count": 14,
     "metadata": {},
     "output_type": "execute_result"
    }
   ],
   "source": [
    "a[(a == int) | (a == float)]"
   ]
  },
  {
   "cell_type": "code",
   "execution_count": 22,
   "id": "a37957ae-b03a-4d15-a76e-c2eb9dd4a463",
   "metadata": {},
   "outputs": [],
   "source": [
    "A = np.random.randint(100, size=(3, 3))"
   ]
  },
  {
   "cell_type": "code",
   "execution_count": 23,
   "id": "418a96fe-b1da-46ba-be5e-aee3f903d30d",
   "metadata": {},
   "outputs": [],
   "source": [
    "# A = np.random.randint(10, size=(3, 3))"
   ]
  },
  {
   "cell_type": "code",
   "execution_count": 24,
   "id": "6d312928-3474-4f4d-995f-c86c13d016f4",
   "metadata": {},
   "outputs": [
    {
     "data": {
      "text/plain": [
       "array([[78, 84, 52],\n",
       "       [97, 56, 78],\n",
       "       [27, 32, 81]])"
      ]
     },
     "execution_count": 24,
     "metadata": {},
     "output_type": "execute_result"
    }
   ],
   "source": [
    "A"
   ]
  },
  {
   "cell_type": "code",
   "execution_count": 31,
   "id": "a0fbd01e-f700-47e5-b59c-ee4c60d8cccd",
   "metadata": {},
   "outputs": [
    {
     "data": {
      "text/plain": [
       "array([78, 84, 52, 97, 56, 78, 32, 81])"
      ]
     },
     "execution_count": 31,
     "metadata": {},
     "output_type": "execute_result"
    }
   ],
   "source": [
    "A[np.array([\n",
    "    [True, True, True],\n",
    "    [True, True, True],\n",
    "    [False, True, True]\n",
    "])]"
   ]
  },
  {
   "cell_type": "code",
   "execution_count": 32,
   "id": "6a24e4f3-d995-474d-b307-3db4b071386a",
   "metadata": {},
   "outputs": [
    {
     "data": {
      "text/plain": [
       "array([[ True,  True,  True],\n",
       "       [ True,  True,  True],\n",
       "       [False,  True,  True]])"
      ]
     },
     "execution_count": 32,
     "metadata": {},
     "output_type": "execute_result"
    }
   ],
   "source": [
    "A > 30"
   ]
  }
 ],
 "metadata": {
  "kernelspec": {
   "display_name": "Python 3",
   "language": "python",
   "name": "python3"
  },
  "language_info": {
   "codemirror_mode": {
    "name": "ipython",
    "version": 3
   },
   "file_extension": ".py",
   "mimetype": "text/x-python",
   "name": "python",
   "nbconvert_exporter": "python",
   "pygments_lexer": "ipython3",
   "version": "3.8.8"
  }
 },
 "nbformat": 4,
 "nbformat_minor": 5
}
