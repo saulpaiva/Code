{
 "cells": [
  {
   "cell_type": "code",
   "execution_count": null,
   "id": "8c4cc785-f803-45d1-8323-aa5f4741bf0d",
   "metadata": {},
   "outputs": [],
   "source": []
  }
 ],
 "metadata": {
  "kernelspec": {
   "display_name": "Python 3.8.8 ('base')",
   "language": "python",
   "name": "python3"
  },
  "language_info": {
   "codemirror_mode": {
    "name": "ipython",
    "version": 3
   },
   "file_extension": ".py",
   "mimetype": "text/x-python",
   "name": "python",
   "nbconvert_exporter": "python",
   "pygments_lexer": "ipython3",
   "version": "3.8.8"
  },
  "vscode": {
   "interpreter": {
    "hash": "2faadd031ca69f668240eea41e8059dc0ced654b9dd5ce19f93827fa86e07f5a"
   }
  }
 },
 "nbformat": 4,
 "nbformat_minor": 5
}
