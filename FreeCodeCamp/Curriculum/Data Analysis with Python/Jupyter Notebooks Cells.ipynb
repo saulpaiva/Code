{
 "cells": [
  {
   "cell_type": "code",
   "execution_count": 2,
   "id": "5b447e27-b943-47e8-8a21-3d66737f9c37",
   "metadata": {},
   "outputs": [],
   "source": [
    "# Jupyter Notebooks Cells"
   ]
  },
  {
   "cell_type": "code",
   "execution_count": 3,
   "id": "70beaa0c-f8bc-4ad8-8cd4-fb11522373ef",
   "metadata": {},
   "outputs": [
    {
     "data": {
      "text/plain": [
       "\"\\n- export to generate pdf's\\n- code, markdown, raw\\n\\n\""
      ]
     },
     "execution_count": 3,
     "metadata": {},
     "output_type": "execute_result"
    }
   ],
   "source": [
    "'''\n",
    "- export to generate pdf's\n",
    "- code, markdown, raw\n",
    "\n",
    "'''"
   ]
  },
  {
   "cell_type": "code",
   "execution_count": 4,
   "id": "528b2ad3-943a-4031-b758-5c172c7dcf31",
   "metadata": {},
   "outputs": [
    {
     "name": "stdout",
     "output_type": "stream",
     "text": [
      "hello\n"
     ]
    }
   ],
   "source": [
    "print('hello')"
   ]
  },
  {
   "cell_type": "code",
   "execution_count": 1,
   "id": "7c655a9f-7ea6-45c6-95c8-f05f67cca113",
   "metadata": {},
   "outputs": [
    {
     "data": {
      "text/plain": [
       "4"
      ]
     },
     "execution_count": 1,
     "metadata": {},
     "output_type": "execute_result"
    }
   ],
   "source": [
    "1 + 3"
   ]
  },
  {
   "cell_type": "code",
   "execution_count": null,
   "id": "d8ea6dd7-6dc4-40d4-bdff-34b50d7f68dd",
   "metadata": {},
   "outputs": [],
   "source": []
  },
  {
   "cell_type": "markdown",
   "id": "44368796-2c02-42ea-b256-1d412941d484",
   "metadata": {},
   "source": [
    "# Testing shortcuts"
   ]
  },
  {
   "cell_type": "code",
   "execution_count": null,
   "id": "71b9d7e8-47ad-4747-9a03-439f2be4f766",
   "metadata": {},
   "outputs": [],
   "source": [
    "# m for markdown\n",
    "# y for code"
   ]
  },
  {
   "cell_type": "code",
   "execution_count": null,
   "id": "5fa428cd-3ce3-41b3-9dcd-8aac9cb84dfc",
   "metadata": {},
   "outputs": [],
   "source": []
  },
  {
   "cell_type": "markdown",
   "id": "66da66f1-ce86-4082-b476-d258a4074340",
   "metadata": {},
   "source": [
    "# Testing shortcuts"
   ]
  },
  {
   "cell_type": "markdown",
   "id": "508a56ae-ce3c-408d-ae80-4d0feaee2ca6",
   "metadata": {},
   "source": [
    "# Testing shortcuts"
   ]
  },
  {
   "cell_type": "markdown",
   "id": "e58b2842-857e-4426-afb4-a2ef0e2d4c42",
   "metadata": {},
   "source": [
    "# Testing shortcuts"
   ]
  }
 ],
 "metadata": {
  "kernelspec": {
   "display_name": "Python 3",
   "language": "python",
   "name": "python3"
  },
  "language_info": {
   "codemirror_mode": {
    "name": "ipython",
    "version": 3
   },
   "file_extension": ".py",
   "mimetype": "text/x-python",
   "name": "python",
   "nbconvert_exporter": "python",
   "pygments_lexer": "ipython3",
   "version": "3.8.8"
  },
  "toc-autonumbering": false,
  "toc-showcode": true,
  "toc-showmarkdowntxt": true
 },
 "nbformat": 4,
 "nbformat_minor": 5
}
