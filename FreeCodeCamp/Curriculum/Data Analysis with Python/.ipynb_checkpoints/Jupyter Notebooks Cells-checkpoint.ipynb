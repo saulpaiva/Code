{
 "cells": [
  {
   "cell_type": "code",
   "execution_count": 1,
   "id": "5b447e27-b943-47e8-8a21-3d66737f9c37",
   "metadata": {},
   "outputs": [],
   "source": [
    "# Jupyter Notebooks Cells"
   ]
  },
  {
   "cell_type": "code",
   "execution_count": null,
   "id": "72cc23a3-843f-4b11-808d-bf2a87816bde",
   "metadata": {},
   "outputs": [],
   "source": []
  }
 ],
 "metadata": {
  "kernelspec": {
   "display_name": "Python 3",
   "language": "python",
   "name": "python3"
  },
  "language_info": {
   "codemirror_mode": {
    "name": "ipython",
    "version": 3
   },
   "file_extension": ".py",
   "mimetype": "text/x-python",
   "name": "python",
   "nbconvert_exporter": "python",
   "pygments_lexer": "ipython3",
   "version": "3.8.8"
  }
 },
 "nbformat": 4,
 "nbformat_minor": 5
}
