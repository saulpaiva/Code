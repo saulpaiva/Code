{
 "cells": [
  {
   "cell_type": "markdown",
   "id": "84ff494f-b65b-42a1-8ccb-d5ce65d8790d",
   "metadata": {},
   "source": [
    "# NumPy is faster than list:\n",
    "\n",
    "- Fixed Type\n",
    "- Faster to read less bytes of memory\n",
    "- No type checking\n",
    "- Contiguous Memory\n",
    "- SIMD Vector Processing\n",
    "- Effective Cache Utilization"
   ]
  }
 ],
 "metadata": {
  "kernelspec": {
   "display_name": "Python 3",
   "language": "python",
   "name": "python3"
  },
  "language_info": {
   "codemirror_mode": {
    "name": "ipython",
    "version": 3
   },
   "file_extension": ".py",
   "mimetype": "text/x-python",
   "name": "python",
   "nbconvert_exporter": "python",
   "pygments_lexer": "ipython3",
   "version": "3.8.8"
  }
 },
 "nbformat": 4,
 "nbformat_minor": 5
}
