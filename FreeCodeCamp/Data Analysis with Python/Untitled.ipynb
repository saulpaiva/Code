{
 "cells": [
  {
   "cell_type": "markdown",
   "id": "d6f733b2",
   "metadata": {},
   "source": [
    "Beginning"
   ]
  },
  {
   "cell_type": "code",
   "execution_count": 4,
   "id": "13bac20e-8f52-4c95-aabf-62278af54d49",
   "metadata": {},
   "outputs": [],
   "source": [
    "# %autosave 60\n",
    "# set autosave time to 10 seconds"
   ]
  },
  {
   "cell_type": "code",
   "execution_count": 1,
   "id": "fe682631",
   "metadata": {},
   "outputs": [
    {
     "name": "stdout",
     "output_type": "stream",
     "text": [
      "It worked on my Windows!\n"
     ]
    }
   ],
   "source": [
    "print('It worked on my Windows!')"
   ]
  },
  {
   "cell_type": "code",
   "execution_count": 3,
   "id": "117fd463",
   "metadata": {},
   "outputs": [
    {
     "name": "stdout",
     "output_type": "stream",
     "text": [
      "save this!\n"
     ]
    }
   ],
   "source": [
    "print('save this!')"
   ]
  },
  {
   "cell_type": "code",
   "execution_count": null,
   "id": "24feab23",
   "metadata": {},
   "outputs": [],
   "source": []
  }
 ],
 "metadata": {
  "interpreter": {
   "hash": "df9fa2f586f5c1cbd35436a69bdedd2b5071efcbc4b8f5ad70614564725e470d"
  },
  "kernelspec": {
   "display_name": "Python 3",
   "language": "python",
   "name": "python3"
  },
  "language_info": {
   "codemirror_mode": {
    "name": "ipython",
    "version": 3
   },
   "file_extension": ".py",
   "mimetype": "text/x-python",
   "name": "python",
   "nbconvert_exporter": "python",
   "pygments_lexer": "ipython3",
   "version": "3.8.8"
  }
 },
 "nbformat": 4,
 "nbformat_minor": 5
}
