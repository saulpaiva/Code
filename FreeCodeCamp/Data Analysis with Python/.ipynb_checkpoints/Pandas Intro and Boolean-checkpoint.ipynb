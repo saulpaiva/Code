{
 "cells": [
  {
   "cell_type": "markdown",
   "id": "f6e28126-5c4e-448f-8323-a7ae4c1d6966",
   "metadata": {},
   "source": [
    "# Panda - Series"
   ]
  },
  {
   "cell_type": "markdown",
   "id": "c9c58d4f-e3ec-4a03-b3f2-8f01b874fd56",
   "metadata": {},
   "source": [
    "## Hands on!"
   ]
  },
  {
   "cell_type": "code",
   "execution_count": 1,
   "id": "aac29564-aa8d-428d-a60d-4ac39ba616a8",
   "metadata": {},
   "outputs": [],
   "source": [
    "import pandas as pd\n",
    "import numpy as np"
   ]
  },
  {
   "cell_type": "markdown",
   "id": "5131e7e1-7095-406f-81d2-b6e4ef272abe",
   "metadata": {},
   "source": [
    "## Panda Series"
   ]
  },
  {
   "cell_type": "markdown",
   "id": "b8679c3c-1940-4fb5-8e63-c9899195bf40",
   "metadata": {},
   "source": [
    "### We'll start analizing \"The Group of Seven\" [https://www.nationmaster.com/country-info/groups/Group-of-7-countries-(G7)]"
   ]
  },
  {
   "cell_type": "code",
   "execution_count": 2,
   "id": "cd6eb2d5-a8b2-4e4f-8558-e79927db10cb",
   "metadata": {},
   "outputs": [],
   "source": [
    "# Population in millions\n",
    "g7_pop = pd.Series([63.18, 316.67, 127.25, 81.15, 65.95, 61.48, 34.57])"
   ]
  },
  {
   "cell_type": "code",
   "execution_count": 3,
   "id": "d0994f49-2710-4f23-9319-f3f8aba69b90",
   "metadata": {},
   "outputs": [
    {
     "data": {
      "text/plain": [
       "0     63.18\n",
       "1    316.67\n",
       "2    127.25\n",
       "3     81.15\n",
       "4     65.95\n",
       "5     61.48\n",
       "6     34.57\n",
       "dtype: float64"
      ]
     },
     "execution_count": 3,
     "metadata": {},
     "output_type": "execute_result"
    }
   ],
   "source": [
    "g7_pop"
   ]
  },
  {
   "cell_type": "markdown",
   "id": "b6567eb0-4711-4caf-90b4-0d85a38129a6",
   "metadata": {},
   "source": [
    "### Series can have a **name**:"
   ]
  },
  {
   "cell_type": "code",
   "execution_count": 4,
   "id": "9c2d0562-f354-40f8-a13d-e5c3c5e2d0b1",
   "metadata": {},
   "outputs": [],
   "source": [
    "g7_pop.name = 'G7 Population in millions'"
   ]
  },
  {
   "cell_type": "code",
   "execution_count": 5,
   "id": "06cb3c50-c2c4-4b32-8163-22eaad92f157",
   "metadata": {},
   "outputs": [
    {
     "data": {
      "text/plain": [
       "0     63.18\n",
       "1    316.67\n",
       "2    127.25\n",
       "3     81.15\n",
       "4     65.95\n",
       "5     61.48\n",
       "6     34.57\n",
       "Name: G7 Population in millions, dtype: float64"
      ]
     },
     "execution_count": 5,
     "metadata": {},
     "output_type": "execute_result"
    }
   ],
   "source": [
    "g7_pop"
   ]
  },
  {
   "cell_type": "markdown",
   "id": "6512c732-9cab-435e-b875-e573af85fa29",
   "metadata": {},
   "source": [
    "### Series are pretty similoar to numpy arrays:"
   ]
  },
  {
   "cell_type": "code",
   "execution_count": 6,
   "id": "393a5036-5938-4dd7-b725-9a24c9aad5c7",
   "metadata": {},
   "outputs": [
    {
     "data": {
      "text/plain": [
       "dtype('float64')"
      ]
     },
     "execution_count": 6,
     "metadata": {},
     "output_type": "execute_result"
    }
   ],
   "source": [
    "g7_pop.dtype"
   ]
  },
  {
   "cell_type": "code",
   "execution_count": 7,
   "id": "8ef0d57e-d9b9-4c85-9ef3-1e866c7d4b0f",
   "metadata": {},
   "outputs": [
    {
     "data": {
      "text/plain": [
       "array([ 63.18, 316.67, 127.25,  81.15,  65.95,  61.48,  34.57])"
      ]
     },
     "execution_count": 7,
     "metadata": {},
     "output_type": "execute_result"
    }
   ],
   "source": [
    "g7_pop.values"
   ]
  },
  {
   "cell_type": "markdown",
   "id": "dbbf3a61-803c-4602-9106-22ac1febbe4d",
   "metadata": {},
   "source": [
    "### They are actually backed by numpy arrays:"
   ]
  },
  {
   "cell_type": "code",
   "execution_count": 8,
   "id": "0e87f986-6cba-4704-8c96-f9bf8f01ee5f",
   "metadata": {},
   "outputs": [
    {
     "data": {
      "text/plain": [
       "numpy.ndarray"
      ]
     },
     "execution_count": 8,
     "metadata": {},
     "output_type": "execute_result"
    }
   ],
   "source": [
    "type(g7_pop.values)"
   ]
  },
  {
   "cell_type": "markdown",
   "id": "fec6542c-71c1-4543-8890-ba4c58f7651c",
   "metadata": {},
   "source": [
    "### A Series has an **index**:"
   ]
  },
  {
   "cell_type": "code",
   "execution_count": 9,
   "id": "53e4c072-b138-4e91-8bae-7f3e92a80703",
   "metadata": {},
   "outputs": [
    {
     "data": {
      "text/plain": [
       "0     63.18\n",
       "1    316.67\n",
       "2    127.25\n",
       "3     81.15\n",
       "4     65.95\n",
       "5     61.48\n",
       "6     34.57\n",
       "Name: G7 Population in millions, dtype: float64"
      ]
     },
     "execution_count": 9,
     "metadata": {},
     "output_type": "execute_result"
    }
   ],
   "source": [
    "g7_pop"
   ]
  },
  {
   "cell_type": "code",
   "execution_count": 10,
   "id": "db2958a3-b383-4651-9c76-b04d76816441",
   "metadata": {},
   "outputs": [
    {
     "data": {
      "text/plain": [
       "63.18"
      ]
     },
     "execution_count": 10,
     "metadata": {},
     "output_type": "execute_result"
    }
   ],
   "source": [
    "g7_pop[0]"
   ]
  },
  {
   "cell_type": "code",
   "execution_count": 11,
   "id": "0828ab56-8a8b-4b40-9794-afd52d1d7770",
   "metadata": {},
   "outputs": [
    {
     "data": {
      "text/plain": [
       "316.67"
      ]
     },
     "execution_count": 11,
     "metadata": {},
     "output_type": "execute_result"
    }
   ],
   "source": [
    "g7_pop[1]"
   ]
  },
  {
   "cell_type": "code",
   "execution_count": 12,
   "id": "fa03dc75-d469-4be8-8674-2c09d291e97f",
   "metadata": {},
   "outputs": [
    {
     "data": {
      "text/plain": [
       "RangeIndex(start=0, stop=7, step=1)"
      ]
     },
     "execution_count": 12,
     "metadata": {},
     "output_type": "execute_result"
    }
   ],
   "source": [
    "g7_pop.index"
   ]
  },
  {
   "cell_type": "markdown",
   "id": "ab3e520e-eca5-4ad1-8744-45536dfcf7fb",
   "metadata": {},
   "source": [
    "### But, in contrast to lists, we can explicitly define the index:"
   ]
  },
  {
   "cell_type": "code",
   "execution_count": 13,
   "id": "240e3c76-e6f3-4f42-b30e-a661c49ef30c",
   "metadata": {},
   "outputs": [],
   "source": [
    "g7_pop.index = [\n",
    "    'UK',\n",
    "    'US',\n",
    "    'JP',\n",
    "    'DE',\n",
    "    'FR',\n",
    "    'IT',\n",
    "    'CA',\n",
    "]"
   ]
  },
  {
   "cell_type": "code",
   "execution_count": 14,
   "id": "97015f4f-f4ed-4d3c-a443-2b56848f709d",
   "metadata": {},
   "outputs": [
    {
     "data": {
      "text/plain": [
       "UK     63.18\n",
       "US    316.67\n",
       "JP    127.25\n",
       "DE     81.15\n",
       "FR     65.95\n",
       "IT     61.48\n",
       "CA     34.57\n",
       "Name: G7 Population in millions, dtype: float64"
      ]
     },
     "execution_count": 14,
     "metadata": {},
     "output_type": "execute_result"
    }
   ],
   "source": [
    "g7_pop"
   ]
  },
  {
   "cell_type": "markdown",
   "id": "728c5cb9-0481-47d8-8bc1-5f7a0909ef25",
   "metadata": {},
   "source": [
    "### We can create Series out of dictionaries:"
   ]
  },
  {
   "cell_type": "code",
   "execution_count": 15,
   "id": "c789e975-6c21-457a-83e7-3342b6ea1448",
   "metadata": {},
   "outputs": [
    {
     "data": {
      "text/plain": [
       "UK     63.18\n",
       "US    316.67\n",
       "JP    127.25\n",
       "DE     81.15\n",
       "FR     65.95\n",
       "IT     61.48\n",
       "CA     34.57\n",
       "Name: G7 Population in millions, dtype: float64"
      ]
     },
     "execution_count": 15,
     "metadata": {},
     "output_type": "execute_result"
    }
   ],
   "source": [
    "pd.Series({\n",
    "    'UK': 63.18,\n",
    "    'US': 316.67,\n",
    "    'JP': 127.25,\n",
    "    'DE': 81.15,\n",
    "    'FR': 65.95,\n",
    "    'IT': 61.48,\n",
    "    'CA': 34.57\n",
    "}, name='G7 Population in millions')"
   ]
  },
  {
   "cell_type": "code",
   "execution_count": 16,
   "id": "cddc35f9-d53d-43fe-8501-c1dfe832d17d",
   "metadata": {},
   "outputs": [
    {
     "data": {
      "text/plain": [
       "UK     63.18\n",
       "US    316.67\n",
       "JP    127.25\n",
       "DE     81.15\n",
       "FR     65.95\n",
       "IT     61.48\n",
       "CA     34.57\n",
       "Name: G7 Population in millions, dtype: float64"
      ]
     },
     "execution_count": 16,
     "metadata": {},
     "output_type": "execute_result"
    }
   ],
   "source": [
    "pd.Series(\n",
    "    [63.18, 316.67, 127.25, 81.15, 65.95, 61.48, 34.57],\n",
    "    index=['UK','US','JP','DE','FR','IT','CA'],\n",
    "    name='G7 Population in millions'\n",
    ")"
   ]
  },
  {
   "cell_type": "markdown",
   "id": "bc7e0133-7b04-49b4-947e-29bdfaff8851",
   "metadata": {},
   "source": [
    "### Series out of other series, specifying indexes:"
   ]
  },
  {
   "cell_type": "code",
   "execution_count": 17,
   "id": "a51ee98b-12bd-4c26-af41-6a38d8097fd4",
   "metadata": {},
   "outputs": [
    {
     "data": {
      "text/plain": [
       "UK     63.18\n",
       "US    316.67\n",
       "JP    127.25\n",
       "DE     81.15\n",
       "Name: G7 Population in millions, dtype: float64"
      ]
     },
     "execution_count": 17,
     "metadata": {},
     "output_type": "execute_result"
    }
   ],
   "source": [
    "pd.Series(g7_pop, index=['UK', 'US', 'JP', 'DE'])"
   ]
  },
  {
   "cell_type": "markdown",
   "id": "bf910919-b2f5-467b-b553-e3cb140dc23b",
   "metadata": {},
   "source": [
    "### Indexing"
   ]
  },
  {
   "cell_type": "code",
   "execution_count": 28,
   "id": "ae873143-3336-4218-b659-a3ef849f794c",
   "metadata": {},
   "outputs": [
    {
     "data": {
      "text/plain": [
       "UK     63.18\n",
       "US    316.67\n",
       "JP    127.25\n",
       "DE     81.15\n",
       "FR     65.95\n",
       "IT     61.48\n",
       "CA     34.57\n",
       "Name: G7 Population in millions, dtype: float64"
      ]
     },
     "execution_count": 28,
     "metadata": {},
     "output_type": "execute_result"
    }
   ],
   "source": [
    "g7_pop"
   ]
  },
  {
   "cell_type": "code",
   "execution_count": 18,
   "id": "de754b57-0962-46e0-a44e-d3e077d8e1bc",
   "metadata": {},
   "outputs": [
    {
     "data": {
      "text/plain": [
       "34.57"
      ]
     },
     "execution_count": 18,
     "metadata": {},
     "output_type": "execute_result"
    }
   ],
   "source": [
    "g7_pop['CA']"
   ]
  },
  {
   "cell_type": "code",
   "execution_count": 19,
   "id": "d6b209c8-2d35-4529-89d7-c690b5f52431",
   "metadata": {},
   "outputs": [
    {
     "data": {
      "text/plain": [
       "127.25"
      ]
     },
     "execution_count": 19,
     "metadata": {},
     "output_type": "execute_result"
    }
   ],
   "source": [
    "g7_pop['JP']"
   ]
  },
  {
   "cell_type": "code",
   "execution_count": 20,
   "id": "cf03d9a1-e4af-42f0-b74a-2b6f2644e0f4",
   "metadata": {},
   "outputs": [
    {
     "data": {
      "text/plain": [
       "63.18"
      ]
     },
     "execution_count": 20,
     "metadata": {},
     "output_type": "execute_result"
    }
   ],
   "source": [
    "g7_pop[0]"
   ]
  },
  {
   "cell_type": "code",
   "execution_count": 21,
   "id": "2678ad29-9808-4a19-9848-f2fc58936a66",
   "metadata": {},
   "outputs": [
    {
     "data": {
      "text/plain": [
       "63.18"
      ]
     },
     "execution_count": 21,
     "metadata": {},
     "output_type": "execute_result"
    }
   ],
   "source": [
    "g7_pop.iloc[0]"
   ]
  },
  {
   "cell_type": "code",
   "execution_count": 22,
   "id": "0994fc80-618e-4baf-ab13-0f6d8eb723ab",
   "metadata": {},
   "outputs": [
    {
     "data": {
      "text/plain": [
       "34.57"
      ]
     },
     "execution_count": 22,
     "metadata": {},
     "output_type": "execute_result"
    }
   ],
   "source": [
    "g7_pop.iloc[-1]"
   ]
  },
  {
   "cell_type": "code",
   "execution_count": 33,
   "id": "30df71ef-145b-4c87-aa23-5a0c3d7ba17c",
   "metadata": {},
   "outputs": [
    {
     "data": {
      "text/plain": [
       "IT    61.48\n",
       "FR    65.95\n",
       "Name: G7 Population in millions, dtype: float64"
      ]
     },
     "execution_count": 33,
     "metadata": {},
     "output_type": "execute_result"
    }
   ],
   "source": [
    "# The result is another Series\n",
    "g7_pop[['IT','FR']]"
   ]
  },
  {
   "cell_type": "code",
   "execution_count": 26,
   "id": "d8a41540-2df0-4da2-ab2f-c4255aaf2d11",
   "metadata": {},
   "outputs": [
    {
     "data": {
      "text/plain": [
       "UK     63.18\n",
       "US    316.67\n",
       "Name: G7 Population in millions, dtype: float64"
      ]
     },
     "execution_count": 26,
     "metadata": {},
     "output_type": "execute_result"
    }
   ],
   "source": [
    "# In Pandas, the upper limit is also included:\n",
    "g7_pop[[0, 1]]"
   ]
  },
  {
   "cell_type": "code",
   "execution_count": 27,
   "id": "6977c9c9-e0df-475c-9e6e-f76deb87c016",
   "metadata": {},
   "outputs": [
    {
     "data": {
      "text/plain": [
       "UK     63.18\n",
       "US    316.67\n",
       "Name: G7 Population in millions, dtype: float64"
      ]
     },
     "execution_count": 27,
     "metadata": {},
     "output_type": "execute_result"
    }
   ],
   "source": [
    "g7_pop.iloc[[0, 1]]"
   ]
  },
  {
   "cell_type": "code",
   "execution_count": 30,
   "id": "8e4bfcd8-1b81-4122-851a-3dd14578eb7d",
   "metadata": {},
   "outputs": [
    {
     "data": {
      "text/plain": [
       "UK     63.18\n",
       "US    316.67\n",
       "JP    127.25\n",
       "DE     81.15\n",
       "FR     65.95\n",
       "IT     61.48\n",
       "Name: G7 Population in millions, dtype: float64"
      ]
     },
     "execution_count": 30,
     "metadata": {},
     "output_type": "execute_result"
    }
   ],
   "source": [
    "g7_pop['UK': 'IT']"
   ]
  },
  {
   "cell_type": "code",
   "execution_count": 34,
   "id": "17c5fe56-ec67-4b19-ab4f-67fe516339b0",
   "metadata": {},
   "outputs": [
    {
     "data": {
      "text/plain": [
       "UK     63.18\n",
       "US    316.67\n",
       "JP    127.25\n",
       "DE     81.15\n",
       "FR     65.95\n",
       "IT     61.48\n",
       "CA     34.57\n",
       "Name: G7 Population in millions, dtype: float64"
      ]
     },
     "execution_count": 34,
     "metadata": {},
     "output_type": "execute_result"
    }
   ],
   "source": [
    "g7_pop[:]"
   ]
  },
  {
   "cell_type": "markdown",
   "id": "ef2c0851-b9f8-4adc-9c27-34007ef83b20",
   "metadata": {},
   "source": [
    "### Conditional selection (Boolean Arrays)"
   ]
  },
  {
   "cell_type": "code",
   "execution_count": null,
   "id": "c0b09a22-f4c0-4b1d-9ac8-8aff0d719999",
   "metadata": {},
   "outputs": [],
   "source": [
    "# ~ not\n",
    "# | or\n",
    "# & and"
   ]
  },
  {
   "cell_type": "code",
   "execution_count": 35,
   "id": "5f125a5b-a24e-46ed-b2d0-26f001de475f",
   "metadata": {},
   "outputs": [
    {
     "data": {
      "text/plain": [
       "UK     63.18\n",
       "US    316.67\n",
       "JP    127.25\n",
       "DE     81.15\n",
       "FR     65.95\n",
       "IT     61.48\n",
       "CA     34.57\n",
       "Name: G7 Population in millions, dtype: float64"
      ]
     },
     "execution_count": 35,
     "metadata": {},
     "output_type": "execute_result"
    }
   ],
   "source": [
    "g7_pop"
   ]
  },
  {
   "cell_type": "code",
   "execution_count": 36,
   "id": "b4943423-1531-4802-b6ee-1cf9a2a59eba",
   "metadata": {},
   "outputs": [
    {
     "data": {
      "text/plain": [
       "UK    False\n",
       "US     True\n",
       "JP     True\n",
       "DE     True\n",
       "FR    False\n",
       "IT    False\n",
       "CA    False\n",
       "Name: G7 Population in millions, dtype: bool"
      ]
     },
     "execution_count": 36,
     "metadata": {},
     "output_type": "execute_result"
    }
   ],
   "source": [
    "g7_pop > 70"
   ]
  },
  {
   "cell_type": "code",
   "execution_count": 37,
   "id": "cd59f07f-ca35-4306-9aee-38dc6d026235",
   "metadata": {},
   "outputs": [
    {
     "data": {
      "text/plain": [
       "US    316.67\n",
       "JP    127.25\n",
       "DE     81.15\n",
       "Name: G7 Population in millions, dtype: float64"
      ]
     },
     "execution_count": 37,
     "metadata": {},
     "output_type": "execute_result"
    }
   ],
   "source": [
    "g7_pop[g7_pop > 70]"
   ]
  },
  {
   "cell_type": "code",
   "execution_count": 38,
   "id": "32e82b63-34d7-4b16-a61f-f409c84f7229",
   "metadata": {},
   "outputs": [
    {
     "data": {
      "text/plain": [
       "107.17857142857144"
      ]
     },
     "execution_count": 38,
     "metadata": {},
     "output_type": "execute_result"
    }
   ],
   "source": [
    "g7_pop.mean()"
   ]
  },
  {
   "cell_type": "code",
   "execution_count": 39,
   "id": "353898dd-a0c5-4e74-b895-45924d7c6501",
   "metadata": {},
   "outputs": [
    {
     "data": {
      "text/plain": [
       "US    316.67\n",
       "JP    127.25\n",
       "Name: G7 Population in millions, dtype: float64"
      ]
     },
     "execution_count": 39,
     "metadata": {},
     "output_type": "execute_result"
    }
   ],
   "source": [
    "g7_pop[g7_pop > g7_pop.mean()]"
   ]
  },
  {
   "cell_type": "code",
   "execution_count": 40,
   "id": "b33e7238-6f07-491d-85c9-49a3a9c4c65b",
   "metadata": {},
   "outputs": [
    {
     "data": {
      "text/plain": [
       "96.57729278123499"
      ]
     },
     "execution_count": 40,
     "metadata": {},
     "output_type": "execute_result"
    }
   ],
   "source": [
    "g7_pop.std()"
   ]
  },
  {
   "cell_type": "code",
   "execution_count": 41,
   "id": "bff0f949-ee82-471d-8c1b-0db131f6bc3e",
   "metadata": {},
   "outputs": [
    {
     "data": {
      "text/plain": [
       "UK     63.18\n",
       "US    316.67\n",
       "JP    127.25\n",
       "DE     81.15\n",
       "FR     65.95\n",
       "IT     61.48\n",
       "Name: G7 Population in millions, dtype: float64"
      ]
     },
     "execution_count": 41,
     "metadata": {},
     "output_type": "execute_result"
    }
   ],
   "source": [
    "g7_pop[(g7_pop > g7_pop.mean() - g7_pop.std() / 2) | (g7_pop > g7_pop.mean() + g7_pop.std() / 2)]"
   ]
  },
  {
   "cell_type": "code",
   "execution_count": 42,
   "id": "7afac989-4a0d-456f-b25a-311321978ee0",
   "metadata": {},
   "outputs": [
    {
     "data": {
      "text/plain": [
       "US    316.67\n",
       "Name: G7 Population in millions, dtype: float64"
      ]
     },
     "execution_count": 42,
     "metadata": {},
     "output_type": "execute_result"
    }
   ],
   "source": [
    "g7_pop[(g7_pop > g7_pop.mean() - g7_pop.std() / 2) & (g7_pop > g7_pop.mean() + g7_pop.std() / 2)]"
   ]
  },
  {
   "cell_type": "markdown",
   "id": "1bcdc1e7-b218-47bd-aca5-717b23c096f6",
   "metadata": {},
   "source": [
    "### Operations and methods"
   ]
  },
  {
   "cell_type": "code",
   "execution_count": 43,
   "id": "c14099e3-6ccf-4f34-b1d7-23c51c25ef52",
   "metadata": {},
   "outputs": [
    {
     "data": {
      "text/plain": [
       "UK     63180000.0\n",
       "US    316670000.0\n",
       "JP    127250000.0\n",
       "DE     81150000.0\n",
       "FR     65950000.0\n",
       "IT     61480000.0\n",
       "CA     34570000.0\n",
       "Name: G7 Population in millions, dtype: float64"
      ]
     },
     "execution_count": 43,
     "metadata": {},
     "output_type": "execute_result"
    }
   ],
   "source": [
    "g7_pop * 1_000_000"
   ]
  },
  {
   "cell_type": "code",
   "execution_count": 44,
   "id": "6957b5da-214b-450e-91c7-cc917357fe5d",
   "metadata": {},
   "outputs": [
    {
     "data": {
      "text/plain": [
       "UK     63180000.0\n",
       "US    316670000.0\n",
       "JP    127250000.0\n",
       "DE     81150000.0\n",
       "FR     65950000.0\n",
       "IT     61480000.0\n",
       "CA     34570000.0\n",
       "Name: G7 Population in millions, dtype: float64"
      ]
     },
     "execution_count": 44,
     "metadata": {},
     "output_type": "execute_result"
    }
   ],
   "source": [
    "g7_pop * 1000000"
   ]
  },
  {
   "cell_type": "code",
   "execution_count": 45,
   "id": "a848a2a4-6c3a-4baf-a2ac-f1ae99c3225e",
   "metadata": {},
   "outputs": [
    {
     "data": {
      "text/plain": [
       "107.17857142857144"
      ]
     },
     "execution_count": 45,
     "metadata": {},
     "output_type": "execute_result"
    }
   ],
   "source": [
    "g7_pop.mean()"
   ]
  },
  {
   "cell_type": "code",
   "execution_count": 46,
   "id": "51a74519-456f-416f-acfe-6bc658ecb4ca",
   "metadata": {},
   "outputs": [
    {
     "data": {
      "text/plain": [
       "UK    4.145988\n",
       "US    5.757860\n",
       "JP    4.846154\n",
       "DE    4.396299\n",
       "FR    4.188897\n",
       "IT    4.118712\n",
       "CA    3.542986\n",
       "Name: G7 Population in millions, dtype: float64"
      ]
     },
     "execution_count": 46,
     "metadata": {},
     "output_type": "execute_result"
    }
   ],
   "source": [
    "np.log(g7_pop)"
   ]
  },
  {
   "cell_type": "code",
   "execution_count": 47,
   "id": "ada4c466-aacf-4866-a66e-06af53513816",
   "metadata": {},
   "outputs": [
    {
     "data": {
      "text/plain": [
       "63.715"
      ]
     },
     "execution_count": 47,
     "metadata": {},
     "output_type": "execute_result"
    }
   ],
   "source": [
    "g7_pop['FR':'IT'].mean()"
   ]
  },
  {
   "cell_type": "code",
   "execution_count": 48,
   "id": "2dfc79be-060a-4f9f-ad54-53cad5c870eb",
   "metadata": {},
   "outputs": [
    {
     "data": {
      "text/plain": [
       "189.925"
      ]
     },
     "execution_count": 48,
     "metadata": {},
     "output_type": "execute_result"
    }
   ],
   "source": [
    "g7_pop['UK':'US'].mean()"
   ]
  },
  {
   "cell_type": "markdown",
   "id": "bf60a500-f52a-4dca-b9a3-a660d99c7149",
   "metadata": {},
   "source": [
    "### Boolean arrays"
   ]
  },
  {
   "cell_type": "code",
   "execution_count": 49,
   "id": "8b815821-b6ed-44a1-98a5-7b21dcab1af6",
   "metadata": {},
   "outputs": [
    {
     "data": {
      "text/plain": [
       "UK     63.18\n",
       "US    316.67\n",
       "JP    127.25\n",
       "DE     81.15\n",
       "FR     65.95\n",
       "IT     61.48\n",
       "CA     34.57\n",
       "Name: G7 Population in millions, dtype: float64"
      ]
     },
     "execution_count": 49,
     "metadata": {},
     "output_type": "execute_result"
    }
   ],
   "source": [
    "g7_pop"
   ]
  },
  {
   "cell_type": "code",
   "execution_count": 50,
   "id": "65412ea3-737d-49b5-8c0e-54eb02c86ce7",
   "metadata": {},
   "outputs": [
    {
     "data": {
      "text/plain": [
       "UK    False\n",
       "US     True\n",
       "JP     True\n",
       "DE     True\n",
       "FR    False\n",
       "IT    False\n",
       "CA    False\n",
       "Name: G7 Population in millions, dtype: bool"
      ]
     },
     "execution_count": 50,
     "metadata": {},
     "output_type": "execute_result"
    }
   ],
   "source": [
    "g7_pop > 80"
   ]
  },
  {
   "cell_type": "code",
   "execution_count": 51,
   "id": "ee81aaff-e4db-4fd4-be70-444788f4fece",
   "metadata": {},
   "outputs": [
    {
     "data": {
      "text/plain": [
       "US    316.67\n",
       "JP    127.25\n",
       "DE     81.15\n",
       "Name: G7 Population in millions, dtype: float64"
      ]
     },
     "execution_count": 51,
     "metadata": {},
     "output_type": "execute_result"
    }
   ],
   "source": [
    "g7_pop[g7_pop > 80]"
   ]
  },
  {
   "cell_type": "code",
   "execution_count": 52,
   "id": "9c04b210-6e62-41c2-8b5c-aac010a1277d",
   "metadata": {},
   "outputs": [
    {
     "data": {
      "text/plain": [
       "US    316.67\n",
       "JP    127.25\n",
       "DE     81.15\n",
       "CA     34.57\n",
       "Name: G7 Population in millions, dtype: float64"
      ]
     },
     "execution_count": 52,
     "metadata": {},
     "output_type": "execute_result"
    }
   ],
   "source": [
    "g7_pop[(g7_pop > 80) | (g7_pop < 40)]"
   ]
  },
  {
   "cell_type": "code",
   "execution_count": 53,
   "id": "6c92e3ce-7fc7-4543-9cf1-349c3f4d1b92",
   "metadata": {},
   "outputs": [
    {
     "data": {
      "text/plain": [
       "UK     63.18\n",
       "US    316.67\n",
       "JP    127.25\n",
       "DE     81.15\n",
       "FR     65.95\n",
       "IT     61.48\n",
       "CA     34.57\n",
       "Name: G7 Population in millions, dtype: float64"
      ]
     },
     "execution_count": 53,
     "metadata": {},
     "output_type": "execute_result"
    }
   ],
   "source": [
    "g7_pop[(g7_pop > 80) | (g7_pop < 200)]"
   ]
  },
  {
   "cell_type": "code",
   "execution_count": 54,
   "id": "d4da45e1-57fd-455b-a4fc-b9afecdda28d",
   "metadata": {},
   "outputs": [
    {
     "data": {
      "text/plain": [
       "JP    127.25\n",
       "DE     81.15\n",
       "Name: G7 Population in millions, dtype: float64"
      ]
     },
     "execution_count": 54,
     "metadata": {},
     "output_type": "execute_result"
    }
   ],
   "source": [
    "g7_pop[(g7_pop > 80) & (g7_pop < 200)]"
   ]
  },
  {
   "cell_type": "markdown",
   "id": "6be73a11-85a8-4917-b3cc-6ea682414fb9",
   "metadata": {},
   "source": [
    "### Modifying series"
   ]
  },
  {
   "cell_type": "code",
   "execution_count": 56,
   "id": "0e4658e7-e7c5-4793-b83e-df4b256223b0",
   "metadata": {},
   "outputs": [],
   "source": [
    "g7_pop['CA'] = 40.5"
   ]
  },
  {
   "cell_type": "code",
   "execution_count": 57,
   "id": "fdb5458c-9df3-4500-90e4-47c117bff0bf",
   "metadata": {},
   "outputs": [
    {
     "data": {
      "text/plain": [
       "UK     63.18\n",
       "US    316.67\n",
       "JP    127.25\n",
       "DE     81.15\n",
       "FR     65.95\n",
       "IT     61.48\n",
       "CA     40.50\n",
       "Name: G7 Population in millions, dtype: float64"
      ]
     },
     "execution_count": 57,
     "metadata": {},
     "output_type": "execute_result"
    }
   ],
   "source": [
    "g7_pop"
   ]
  },
  {
   "cell_type": "code",
   "execution_count": 58,
   "id": "60628d1b-ad53-42d2-98b4-6d54e548da78",
   "metadata": {},
   "outputs": [],
   "source": [
    "g7_pop[-1] = 500"
   ]
  },
  {
   "cell_type": "code",
   "execution_count": 59,
   "id": "2bd44fd1-8907-4767-a3f3-09ca156c13ff",
   "metadata": {},
   "outputs": [
    {
     "data": {
      "text/plain": [
       "UK     63.18\n",
       "US    316.67\n",
       "JP    127.25\n",
       "DE     81.15\n",
       "FR     65.95\n",
       "IT     61.48\n",
       "CA    500.00\n",
       "Name: G7 Population in millions, dtype: float64"
      ]
     },
     "execution_count": 59,
     "metadata": {},
     "output_type": "execute_result"
    }
   ],
   "source": [
    "g7_pop"
   ]
  },
  {
   "cell_type": "code",
   "execution_count": 60,
   "id": "67db8068-cc93-4b84-9fe3-662b4504e2f7",
   "metadata": {},
   "outputs": [],
   "source": [
    "g7_pop[g7_pop < 70] = 99.99"
   ]
  },
  {
   "cell_type": "code",
   "execution_count": 61,
   "id": "138d065c-7c11-493d-9cc4-416a3fbfee21",
   "metadata": {},
   "outputs": [
    {
     "data": {
      "text/plain": [
       "UK     99.99\n",
       "US    316.67\n",
       "JP    127.25\n",
       "DE     81.15\n",
       "FR     99.99\n",
       "IT     99.99\n",
       "CA    500.00\n",
       "Name: G7 Population in millions, dtype: float64"
      ]
     },
     "execution_count": 61,
     "metadata": {},
     "output_type": "execute_result"
    }
   ],
   "source": [
    "g7_pop"
   ]
  }
 ],
 "metadata": {
  "kernelspec": {
   "display_name": "Python 3",
   "language": "python",
   "name": "python3"
  },
  "language_info": {
   "codemirror_mode": {
    "name": "ipython",
    "version": 3
   },
   "file_extension": ".py",
   "mimetype": "text/x-python",
   "name": "python",
   "nbconvert_exporter": "python",
   "pygments_lexer": "ipython3",
   "version": "3.8.8"
  }
 },
 "nbformat": 4,
 "nbformat_minor": 5
}
